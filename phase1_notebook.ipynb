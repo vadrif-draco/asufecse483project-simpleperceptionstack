{
 "cells": [
  {
   "cell_type": "markdown",
   "metadata": {},
   "source": [
    "# Advanced Lane Lines Detection\n",
    "\n",
    "The goals / steps of this project are the following:\n",
    "\n",
    "* Apply a perspective transform to rectify image (\"birds-eye view\").\n",
    "* Use color transforms, gradients, etc., to create a thresholded binary image.\n",
    "* Detect lane pixels and fit to find the lane boundary.\n",
    "* Determine the curvature of the lane and vehicle position with respect to center.\n",
    "* Warp the detected lane boundaries back onto the original image.\n",
    "* Output visual display of the lane boundaries and numerical estimation of lane curvature and vehicle position."
   ]
  },
  {
   "cell_type": "code",
   "execution_count": null,
   "metadata": {},
   "outputs": [],
   "source": [
    "from LaneDetector import *\n",
    "\n",
    "%matplotlib inline"
   ]
  },
  {
   "cell_type": "code",
   "execution_count": null,
   "metadata": {},
   "outputs": [],
   "source": [
    "test_img_paths = glob.glob('test_images/test*.jpg')"
   ]
  },
  {
   "cell_type": "code",
   "execution_count": null,
   "metadata": {},
   "outputs": [],
   "source": [
    "def get_image(img_path, visualise=False):\n",
    "    '''\n",
    "    Load an image from the 'img_path' and pre-process it\n",
    "    :param img_path (string): Image path\n",
    "    :param visualise (boolean): Boolean flag for visualisation\n",
    "    :return : Transformed Image, (PT matrix, PT inv matrix)\n",
    "    '''\n",
    "    img = mpimg.imread(img_path)\n",
    "    return preprocess_image(img, visualise=visualise)"
   ]
  },
  {
   "cell_type": "markdown",
   "metadata": {},
   "source": [
    "## 1. Perspective Transformation"
   ]
  },
  {
   "cell_type": "code",
   "execution_count": null,
   "metadata": {
    "scrolled": false
   },
   "outputs": [],
   "source": [
    "for path in test_img_paths[:]:\n",
    "        get_image(path, visualise=True)"
   ]
  },
  {
   "cell_type": "markdown",
   "metadata": {},
   "source": [
    "## 2. Generate Thresholded Binary image"
   ]
  },
  {
   "cell_type": "code",
   "execution_count": null,
   "metadata": {},
   "outputs": [],
   "source": [
    "for img_path in test_img_paths[:2]:\n",
    "        img, _ = get_image(img_path)\n",
    "        get_binary_image(img, visualise=True)"
   ]
  },
  {
   "cell_type": "markdown",
   "metadata": {},
   "source": [
    "## 3. Detect Lane Lines: Peaks in Histogram & Sliding Window Technique"
   ]
  },
  {
   "cell_type": "code",
   "execution_count": null,
   "metadata": {},
   "outputs": [],
   "source": [
    "for img_path in test_img_paths[:]:\n",
    "        laneDet = LaneDetector()\n",
    "        img, _ = get_image(img_path)\n",
    "        binary = get_binary_image(img, visualise=False)\n",
    "        laneDet.polyfit_sliding_window(binary, visualise=True)"
   ]
  },
  {
   "cell_type": "markdown",
   "metadata": {},
   "source": [
    "## 4. Detect Lane Lines: Adaptive Search "
   ]
  },
  {
   "cell_type": "code",
   "execution_count": null,
   "metadata": {},
   "outputs": [],
   "source": [
    "cap = cv2.VideoCapture('project_video.mp4')\n",
    "\n",
    "videoframes = []\n",
    "\n",
    "while True:\n",
    "    success, frame = cap.read()\n",
    "    if not success:\n",
    "        break\n",
    "    frame = cv2.cvtColor(frame, cv2.COLOR_BGR2RGB)\n",
    "    videoframes.append(frame)\n",
    "    "
   ]
  },
  {
   "cell_type": "code",
   "execution_count": null,
   "metadata": {},
   "outputs": [],
   "source": [
    "for img in videoframes[0: 5]:\n",
    "    \n",
    "    warped, (M, invM) = preprocess_image(img)\n",
    "    laneDet = LaneDetector()\n",
    "    \n",
    "    max_attempts = 5\n",
    "    \n",
    "    if laneDet.reset == True:\n",
    "        binary = get_binary_image(warped)\n",
    "        ret, out, poly_param = laneDet.polyfit_sliding_window(binary, visualise=False, diagnostics=True)\n",
    "        if ret:\n",
    "            laneDet.reset = False\n",
    "            laneDet.cache = np.array([poly_param])\n",
    "\n",
    "    else:\n",
    "        out, poly_param = laneDet.polyfit_adapt_search(warped, poly_param, visualise=False, diagnostics=False)\n",
    "        if laneDet.attempts == max_attempts:\n",
    "            laneDet.attempts = 0\n",
    "            laneDetreset = True\n",
    "\n",
    "    out_unwarped = cv2.warpPerspective(out, invM, (IMG_SHAPE[1], IMG_SHAPE[0]), flags=cv2.INTER_LINEAR)\n",
    "\n",
    "    img_overlay = np.copy(img)\n",
    "    img_overlay = cv2.addWeighted(out_unwarped, 0.5, img, 0.5, 0)\n",
    "\n",
    "    plot_images([(warped, 'Original'), (out, 'Out'), (img_overlay, 'Overlay')], figsize=(20, 18))"
   ]
  },
  {
   "cell_type": "markdown",
   "metadata": {
    "collapsed": true
   },
   "source": [
    "## 7. Compute meters/pixel"
   ]
  },
  {
   "cell_type": "code",
   "execution_count": null,
   "metadata": {},
   "outputs": [],
   "source": [
    "def compute_mppx(img, dashed_line_loc, visualise=False):\n",
    "    '''\n",
    "    Converts from pixel space to real world space and calculates the metres/pixel\n",
    "    :param img (ndarray): Warped Image\n",
    "    :param dashed_line_loc (string): Dashed line location (left/right)\n",
    "    :param visualise (boolean): Boolean flag for visualisation\n",
    "    : return (float32, float32): (metres/pixel y direction, metres/pixel x-direction)\n",
    "    '''\n",
    "    lane_width = 3.7\n",
    "    dashed_line_len = 3.048\n",
    "    \n",
    "    if dashed_line_loc == 'left':\n",
    "        y_top = 295\n",
    "        y_bottom = 405\n",
    "    elif dashed_line_loc == 'right':\n",
    "        y_top = 395\n",
    "        y_bottom = 495\n",
    "        \n",
    "    binary = get_binary_image(img)\n",
    "    histogram = np.sum(binary[int(binary.shape[0] / 2):, :], axis=0)\n",
    "    midpoint = int(histogram.shape[0] / 2)\n",
    "    \n",
    "    x_left = np.argmax(histogram[:midpoint])\n",
    "    x_right = np.argmax(histogram[midpoint:]) + midpoint\n",
    "    \n",
    "    x_mppx = lane_width / (x_right - x_left)\n",
    "    y_mppx = dashed_line_len / (y_bottom - y_top)\n",
    "    \n",
    "    if visualise:\n",
    "        plt.figure(figsize=(10, 8))\n",
    "        plt.imshow(img)\n",
    "        plt.axis('off')\n",
    "        \n",
    "        if dashed_line_loc == 'left':\n",
    "            plt.plot((x_left, x_left), (y_top, y_bottom), 'r')\n",
    "            plt.text(x_left + 10, (y_top + y_bottom) // 2, '{} m'.format(dashed_line_len), color='r', fontsize=20)\n",
    "\n",
    "        elif dashed_line_loc == 'right':\n",
    "            plt.plot((x_right, x_right), (y_top, y_bottom), 'r')\n",
    "            plt.text(x_right + 10, (y_top + y_bottom) // 2, '{} m'.format(dashed_line_len), color='r',fontsize=20)\n",
    "\n",
    "        plt.plot((x_left, x_right), (img.shape[0] - 200 , img.shape[0] - 200), 'r')\n",
    "        plt.text((x_left + x_right) // 2, img.shape[0] - 220, '{} m'.format(lane_width), color='r', fontsize=20)\n",
    "        \n",
    "    return y_mppx, x_mppx"
   ]
  },
  {
   "cell_type": "code",
   "execution_count": null,
   "metadata": {
    "scrolled": false
   },
   "outputs": [],
   "source": [
    "img, _ = get_image(test_img_paths[0])\n",
    "y_mppx1, x_mppx1 = compute_mppx(img, dashed_line_loc='right', visualise=True)\n",
    "\n",
    "img, _ = get_image(test_img_paths[1])\n",
    "y_mppx2, x_mppx2 = compute_mppx(img, dashed_line_loc='left', visualise=True)\n",
    "\n",
    "x_mppx = (x_mppx1 + x_mppx2) / 2\n",
    "y_mppx = (y_mppx1 + y_mppx2) / 2\n",
    "\n",
    "print('Average meter/px along x-axis: {:.4f}'.format(x_mppx))\n",
    "print('Average meter/px along y-axis: {:.4f}'.format(y_mppx))"
   ]
  },
  {
   "cell_type": "markdown",
   "metadata": {},
   "source": [
    "## 8. Compute Lane Line Curvature"
   ]
  },
  {
   "cell_type": "code",
   "execution_count": null,
   "metadata": {},
   "outputs": [],
   "source": [
    "lanedet = LaneDetector()\n",
    "\n",
    "for img in videoframes[1000: 1010]:\n",
    "\n",
    "    warped, (M, invM) = preprocess_image(img)\n",
    "\n",
    "    binary = get_binary_image(warped)\n",
    "    ret, img_poly, poly_param = lanedet.polyfit_sliding_window(binary)\n",
    "\n",
    "    left_curverad, right_curverad = lanedet.compute_curvature(poly_param, y_mppx, x_mppx)\n",
    "    curvature = (left_curverad + right_curverad) / 2\n",
    "    offset = lanedet.compute_offset_from_center(poly_param, x_mppx)\n",
    "    result = lanedet.draw(img, warped, invM, poly_param, curvature, offset)\n",
    "\n",
    "    plot_images([(img_poly, 'Polyfit'), (result, 'Result')])"
   ]
  },
  {
   "cell_type": "markdown",
   "metadata": {},
   "source": [
    "## 9. Pipeline"
   ]
  },
  {
   "cell_type": "code",
   "execution_count": null,
   "metadata": {},
   "outputs": [],
   "source": [
    "lanedet = LaneDetector()\n",
    "\n",
    "for img in videoframes[0:15]:\n",
    "    result = lanedet.pipeline(img, visualise=True, diagnostics=1)"
   ]
  },
  {
   "cell_type": "code",
   "execution_count": null,
   "metadata": {},
   "outputs": [],
   "source": [
    "images1 = glob.glob('test_images/*.jpg')\n",
    "\n",
    "lanedet = LaneDetector()\n",
    "\n",
    "img = mpimg.imread(images1[0])\n",
    "\n",
    "_ = lanedet.pipeline(img, visualise=True, diagnostics=True)"
   ]
  },
  {
   "cell_type": "markdown",
   "metadata": {},
   "source": [
    "## 9. Process Video"
   ]
  },
  {
   "cell_type": "code",
   "execution_count": null,
   "metadata": {
    "scrolled": true
   },
   "outputs": [],
   "source": [
    "from moviepy.editor import VideoFileClip\n",
    "from IPython.display import HTML\n",
    "\n",
    "lanedet = LaneDetector()\n",
    "\n",
    "process_frame = lambda frame: lanedet.pipeline(frame, diagnostics=False)\n",
    "\n",
    "video_output = 'harder_challenge_output.mp4'\n",
    "video_input = VideoFileClip('harder_challenge_video.mp4')                          \n",
    "#processed_video = video_input.fl_image(process_frame)\n",
    "#%time processed_video.write_videofile(video_output, audio=False)\n",
    "\n",
    "# video1_output = 'challenge_video_output.mp4'\n",
    "# video1_input = VideoFileClip('challenge_video.mp4')#.subclip(4, 7)                          \n",
    "# processed_video = video1_input.fl_image(process_frame)\n",
    "# %time processed_video.write_videofile(video1_output, audio=False)\n",
    "\n",
    "# video2_output = 'harder_challenge_video_output.mp4'\n",
    "# video2_input = VideoFileClip('harder_challenge_video.mp4')                          \n",
    "# processed_video = video2_input.fl_image(process_frame)#.subclip(0,5)\n",
    "# %time processed_video.write_videofile(video2_output, audio=False)"
   ]
  },
  {
   "cell_type": "code",
   "execution_count": null,
   "metadata": {},
   "outputs": [],
   "source": []
  },
  {
   "cell_type": "code",
   "execution_count": null,
   "metadata": {},
   "outputs": [],
   "source": []
  }
 ],
 "metadata": {
  "kernelspec": {
   "display_name": "Python 3",
   "language": "python",
   "name": "python3"
  },
  "language_info": {
   "codemirror_mode": {
    "name": "ipython",
    "version": 3
   },
   "file_extension": ".py",
   "mimetype": "text/x-python",
   "name": "python",
   "nbconvert_exporter": "python",
   "pygments_lexer": "ipython3",
   "version": "3.6.9"
  },
  "widgets": {
   "state": {},
   "version": "1.1.2"
  }
 },
 "nbformat": 4,
 "nbformat_minor": 2
}
